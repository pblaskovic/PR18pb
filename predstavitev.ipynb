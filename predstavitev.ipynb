{
 "cells": [
  {
   "cell_type": "markdown",
   "metadata": {},
   "source": [
    "# TED talks\n",
    "\n",
    "\n",
    "**Paola Blašković**"
   ]
  },
  {
   "cell_type": "markdown",
   "metadata": {},
   "source": [
    "V projektni nalogi analiziran je TED talks dataset. Skup podataka TED talks vsebuje podatke o 2550 videih zbranih na strani TED.com v obdobju do 21. septembra 2017. Videi so posnamljeni v obdobju od 1994. do 2017. leta\n",
    "<img src=\"TED.png\"></img>\n",
    "\n",
    " \n",
    "TED je neprofitna organizacija posvečena širjenju idej. V predavanjima se združuju zamisli s treh različnih področij: **tehnologije**, **zabave** in **oblikovanja** = Technology, Entertainment, Design. TED deluje preko raznolikih mednarodnih pobud in aktivnosti. Na vsakoletni TED konferenci vodilni svetovni misleci in akterji svoje znanje posredujejo v 3 do 18 minut dolgih nastopih. Po dogodku so na spletni strani TED.com njihovi govori brezplačno dostopni vsakomur.\n",
    "\n",
    "\n",
    "\n",
    "## Podatki\n",
    "Skup podatkov vsebuje dve CSV datoteki:\n",
    "\n",
    "**ted_main.csv** - Vsebuje podatke o TED govorniki in še neke metapodatke.\n",
    "\n",
    "Naziv|Opis|Tip podatka\n",
    "---|---|---\n",
    "comments|The number of first level comments made on the talk|Numeric\n",
    "description|A blurb of what the talk is about|String\n",
    "duration|The duration of the talk in seconds|Numeric\n",
    "event|The TED/TEDx event where the talk took place|String\n",
    "film_date|The Unix timestamp of the filming|Numeric\n",
    "languages|The number of languages in which the talk is available|Numeric\n",
    "main_speaker|The first named speaker of the talk|String\n",
    "name|The official name of the TED Talk. Includes the title and the speaker|String\n",
    "num_speaker|The number of speakers in the talk|Numeric\n",
    "published_date|The Unix timestamp for the publication of the talk on TED.com|Numeric\n",
    "ratings|A stringified dictionary of the various ratings given to the talk (inspiring, fascinating, etc.)|String\n",
    "related_talks|A list of dictionaries of recommended talks to watch next|String\n",
    "speaker_occupation|The occupation of the main speaker|String\n",
    "tags|The themes associated with the talk|String\n",
    "title|The title of the talk|String\n",
    "url|The URL of the talk|String\n",
    "views|The number of views on the talk|Numeric\n",
    "\n",
    "\n",
    "**transcripts.csv** - Vsebuje prepis in URL povezavo do vsakeg TED videa.\n",
    "\n",
    "Naziv|Opis|Tip podatka\n",
    "---|---|---\n",
    "transcript|The official English transcript of the talk|String\n",
    "url|The URL of the talk|String"
   ]
  },
  {
   "cell_type": "markdown",
   "metadata": {},
   "source": [
    "## Analiza podatkov TED talks\n",
    "#### Glavno vprašanje, na katero se bo baziral ta notebook je \"Kaj nardi en TED pogovor popularnim?\" \n",
    "Kaj največ vpliva na popularnost videja? Ali lahko že pred objave videa na spletni strani lahko določimo ali on bo popularen?\n",
    "\n",
    "Za odgovorit na to vprašanje na začetku se moramo lotit vprašanja Kaj pomeni da je video popularen?\n",
    "Vemo, da je video popularen, če ima veliko število pogledov, če so ga mnogi ljudje iz različnih delov sveta pogledali. No zdaj se vprašamo, kako število komentarjev, dolžina videa, ocen in ostalih atributi vplivajo na število pogledov.\n",
    "\n",
    "Na popularnost videa lahko vpliva tudi število jezikov v katere je video preveden, mogoče i še neki drugi atributi kot so poklic govornika, dan gdaj je objavljen na spletu, dan ali event na katerem je posnet.\n",
    "\n",
    "V ovem notebooku bom odgovorila na ova vprašanja:\n",
    "- Kateri videi imju največ **pogledov**? Kako na poglede vplivaju razni atributi podatkovnega niza TED talk?\n",
    "- Koliko so v povprečju **dolgi** govori? Kako dolžina videa vpliva na ostale atribute?\n",
    "- Kateri videi so največ **komentirani**? Koje teme provociraju največ komentarov? \n",
    "- Koje so najbolj pogoste **teme** govornikov? Kako se spremljaju teme čez čas?\n",
    "- V katerih mesecih je prikazovano največ videa? Gdaj so posnamljeni najbolj populrani vidje? Kateri dn v tednu je najboljši za objavo videa?  \n",
    "- Govorniki - kako njihova popularnost vpliva na popularnost videa? \n",
    "\n",
    "Sigurno je da videi koji so na snimani prije veliko leta bojo imeli več pogledov. Menim da najpogosteje komentirani videi bojo govorili o politiki in znanosti. Verjetno je da v zimskih mesecev videi bodo več pregledani. A okupacija govornika verjetno bo povezana z temo govora. "
   ]
  },
  {
   "cell_type": "markdown",
   "metadata": {},
   "source": [
    "<img src=\"corr.png\"></img>\n",
    "Za začetak je dobro videt kakšna je koorelacija med podatkima.\n",
    "\n",
    "Lahko vidimo da je koorelacija med številom pogleda in komentarja zelo velika\n",
    "Dolžina videa več vpliva na število komentarov kot na število pogledov\n",
    "Število govornikov nima značajnega vpliva na druge atribute\n",
    "Broj jezika na katere je video prevajan vpliva na število pogledov in komentarov\n",
    "Na začetku bom prikazala neke od atributov ovega podatkovnega niza in njihove disribucije med podatki."
   ]
  },
  {
   "cell_type": "markdown",
   "metadata": {},
   "source": [
    "## Trajanje(dolžina) videa\n",
    "\n",
    "<img src=\"duration.png\"></img>\n",
    "Dolžina videa je disribuirana po normalni distibuciji, videji so v povprečju dolgi od 8 do 20 minut."
   ]
  },
  {
   "attachments": {},
   "cell_type": "markdown",
   "metadata": {},
   "source": [
    "## Število komentarjev\n",
    "\n",
    "<img src=\"comments.png\"></img>\n",
    "Distribucija števila komentarov je normalna distribucija, videi v povprečju imajo 190 komentarjev. "
   ]
  },
  {
   "cell_type": "markdown",
   "metadata": {},
   "source": [
    "## Oznake / Teme TED talkov\n",
    "\n",
    "Vsak TED talk ima en skup dodeljenih oznak - one pomenijo o kojih temah se govori v tem videu. Gdaj ih malo proučimo lahko vidimo da teme TED talkov niso samo z področja tehnologije, oblikovanja in edukacije več so se veliko razširile. Neke od tema talkov so: climate change in drugi problemi v svetu, glasba, LGTB,...\n",
    "\n",
    "<img src=\"themes.png\"></img>\n",
    "\n"
   ]
  },
  {
   "cell_type": "markdown",
   "metadata": {},
   "source": [
    "## Največ pogledani videi\n",
    "\n",
    "Iskala sem kateri so videi najbolj popularni - kateri imajo največ pogledov in kakšen vpliv ima veliko število pogledov na ostale atribute.\n",
    "Za **popularne videe** sem vzela **50** največ gledanih videov.\n",
    "\n",
    "<img src=\"views.png\"></img>\n",
    "\n",
    "Gdaj pogledano kako je distribuirano število pregledov lahko ugotovimo da podobno **normalni distribuciji**. Videi imajo v povprečju 1,7 milionov pogleda."
   ]
  },
  {
   "cell_type": "markdown",
   "metadata": {},
   "source": [
    "### Pogledi -- Število komentarjev\n",
    "\n",
    "<img src=\"v-c.png\"></img>\n",
    "Iz scatter plot grafa med številom pogledov in komentarje vidimo da so večinoma v dobri koorelaciji razen par outlinerov:\n",
    " - video ki ima več kot 6000 komentarov in relativno malo pregledov\n",
    " - video ki ima več kot 4 miliona pregledov\n",
    " - video ki ima več kot 2 miliona pregledov in manj kot 500 komentarov\n",
    " \n",
    "Zanimivo je videt kateri so to videi in koji je razlog da tako izstopaju iz množice.\n",
    "\n",
    "<img src=\"v-c2.png\"></img>\n",
    "\n",
    "Video ki ima več kot 600 pregledov je **Militant atheism** in bavi se temama religije in znanosti pa je zelo logično da ima veliko komentarov.\n",
    "**Science can answer moral question** je še en video ki ima zelo veliko število komentarov. Tema videa je o povezavi med znanostjo in moralom. To je vedno tema za rasprave med ljudjem pa je spet logično da ima veliko komentarov.\n",
    "\n",
    "\n",
    "Veliko gledani videi ki imajo malo komentarov ali govorijo o nekih tabu temah, ali teme niso dovolj zanimive ljudjem za komentirat o njimi."
   ]
  },
  {
   "cell_type": "markdown",
   "metadata": {},
   "source": [
    "### Pogledi -- Trajanje videa\n",
    "\n",
    "Popularni videji so v povpreču dolgi 15 min, vsi zelo dolgi videji imajo majhno število pogledov, zraven pa popularni videi su dolgi okol 20 minut.\n",
    "\n",
    "<img src=\"v-d.png\"></img>\n",
    "\n",
    "Lahko vidimo da dolžina videa ne vpliva na število pregledov. Edino kaj lahko iz tega izvedemo je da najbolj popularni videji so dolgi okol 20 minut."
   ]
  },
  {
   "attachments": {},
   "cell_type": "markdown",
   "metadata": {},
   "source": [
    "### Pogledi -- Poklic govornika\n",
    "\n",
    "Iz grafa lahko vidimo da govorniki zelo popularnih videa imajo večinoma normalne poklice kot os psiholog, neurokirurg ampak zelo so gledani i videi ljudi z poklicimo kot so: Relationship therapist, Activist, Researcher, Psychiatrist, psychoanalyst and Zen priest, Visionary. \n",
    "Zelo mi je bil zanimiv za poklic Zen priest in Visionary pogledat kateri so to videi:\n",
    "- __[Robert Waldinger: What makes a good life?](https://www.ted.com/talks/robert_waldinger_what_makes_a_good_life_lessons_from_the_longest_study_on_happiness)__\n",
    "- __[Steve Jobs: How to live before you die](https://www.ted.com/talks/steve_jobs_how_to_live_before_you_die)__\n",
    "\n",
    "Oba videa so zelo inspirativna in je zarad tega logično da imajo veliko pregledov.\n",
    "\t\n",
    "<img src=\"v-t.png\"></img>"
   ]
  },
  {
   "cell_type": "markdown",
   "metadata": {},
   "source": [
    "### Gdaj so objavljeni na spletni strani 50 najbolj popularnih videja? \n",
    "\n",
    "Vidimo da je največ populrnih videa objavljeno leta **2013**, dok je **marec** očitno najboljši mesec za objavo videa. Najboljši dan v tednu za objavo videa je **petek**, najbolj bedni dni so pa sobota in nedelja.\n",
    "<img src=\"v-y.png\"></img>\n",
    "<img src=\"v-m.png\"></img>\n",
    "<img src=\"v-day.png\"></img>"
   ]
  },
  {
   "cell_type": "markdown",
   "metadata": {},
   "source": [
    "### Z katerim temema se bavijo najbolj popularni videji?\n",
    "\n",
    "Najbolj popularni videi govorijo o temah kot so kultura, psihologija, zabava, business, ...\n",
    "\n",
    "<img src=\"v-theme.png\"></img>\n",
    "\n",
    "Ni presenetljivo, da je število komentarov očitno zelo dobro povezano s številom ogledov, tudi število jezikov na katere so videi prevedeni - vsi izvirajo iz velikog števila pregledov. Zato ni \"pošteno\" napovedati poglede na podlagi teh dejavnikov, v realnem svetu pa teh parametrov ne moremo uporabiti za napovedovanje, ker niso vzroki za več pogledov, ampak so tudi rezultat številnih pogledov , in vzrok v krepitvi povratne zanke: več komentarjev, bolj angažirana je skupnost okoli govora in bolj verjetna širitev; več jezikov lahko gleda več gledalcev; in več gledalcev, več občinstva je treba komentirati in prevajati. "
   ]
  },
  {
   "cell_type": "markdown",
   "metadata": {},
   "source": [
    "Lakho vidimo da na popularnost vida vpliva:\n",
    "  - veliko število komentarov (kaj je zelo pričekovano - več pogledov -> več komentarov)\n",
    " - da je video preveden na več jezikov - zarad tega ga lahko gledajo ljudje ki ne govore po angleški\n",
    " - največ popularnih videa je objavljeno v četrtek\n",
    " - največ ih je objavljeno leta 2013\n",
    " - najbolj popularni videi govorijo o temah kot so kultura, psihologija, zabava, business, ..."
   ]
  },
  {
   "cell_type": "markdown",
   "metadata": {},
   "source": [
    "## Snemanje videov\n",
    "\n",
    "Naveč videov je posnamljeno februarja, januar pa avgust so meseci v katerih se zelo malo videa snema.\n",
    "Lahko vidimo da se od 2004 na dalj zelo povečuje število posnamljenih videov, največ ih je bilo posnamljenih 2013.\n",
    "\n",
    "<img src=\"month.png\"></img>\n",
    "<img src=\"year.png\"></img>"
   ]
  },
  {
   "cell_type": "markdown",
   "metadata": {},
   "source": [
    "## TED Events\n",
    "\n",
    "Največ videa je posnamljeno na velikim TED talk eventima ki se dogajajo enkrat v letu (npr. TED2009). Lahko vidimo da je na eventu TED2013 posnamljeno največ videa, kaj je logično kjer ih je v tem letu tudi največ posnamljeno."
   ]
  },
  {
   "cell_type": "markdown",
   "metadata": {},
   "source": [
    "## Ratings\n",
    "\n",
    "Spletna stran TED talks omogoča uporabnikom da na različne načine ocenijo ali opišejo kako so doživeli video. Vsak uporabnik en video lahko označi z največ 3 oznake.\n",
    "Oznake so:\n",
    "- OK              \n",
    "- Courageous     \n",
    "- Jaw-dropping \n",
    "- Inspiring      \n",
    "- Informative  \n",
    "- Persuasive     \n",
    "- Funny        \n",
    "- Ingenious      \n",
    "- Obnoxious       \n",
    "- Unconvincing    \n",
    "- Beautiful       \n",
    "- Fascinating     \n",
    "- Longwinded      \n",
    "- Confusing    \n",
    "\n",
    "TED talk podatkovnem nizu ocene za vsak od videa so shranjene v atributu Ratings. Vsak video ima več ocen ki sso shranjene na način da je njihovo ime povezano z številom koje je ta video dobil za nek od oznak.\n",
    "\n",
    "Jaz sem prikazala videe koji **fascinirali** gledalce in poiskala ali so **longwinded** videji res zelo dolgi."
   ]
  },
  {
   "cell_type": "markdown",
   "metadata": {},
   "source": [
    "Lahko vidimo da so zelo popularni videji Fascinating. Teme ki so popularne pri oznaki Fascinating so kultura, komunikacija, kreativnost,... Veliko videja koji fascinirajo ljude so snimljeni pred 2006. letom. \n",
    "__[Ken Robinson: Do schools kill creativity?](https://www.ted.com/talks/ken_robinson_says_schools_kill_creativity)__ je daleko najbolj fascinanten video. Govornik razlaga o tem kako je zelo pomembna celotna sprememba šolstva, drugačji načini učenja učencev so nujni.\n",
    "\n",
    "<img src=\"fascinating.png\"></img>\n",
    "\n",
    "__[Simon Sinek: How great leaders inspire action](https://www.ted.com/talks/simon_sinek_how_great_leaders_inspire_action)__\n",
    " je po ocenama gledalcev najbolj dolgočasni video. Jaz sem ga pogledala in me ni presenečil.\n",
    " \n",
    " <img src=\"long.png\"></img>"
   ]
  },
  {
   "cell_type": "code",
   "execution_count": null,
   "metadata": {},
   "outputs": [],
   "source": []
  }
 ],
 "metadata": {
  "kernelspec": {
   "display_name": "Python 3",
   "language": "python",
   "name": "python3"
  },
  "language_info": {
   "codemirror_mode": {
    "name": "ipython",
    "version": 3
   },
   "file_extension": ".py",
   "mimetype": "text/x-python",
   "name": "python",
   "nbconvert_exporter": "python",
   "pygments_lexer": "ipython3",
   "version": "3.6.4"
  }
 },
 "nbformat": 4,
 "nbformat_minor": 2
}
